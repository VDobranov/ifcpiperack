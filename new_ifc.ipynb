{
 "cells": [
  {
   "cell_type": "code",
   "execution_count": 56,
   "metadata": {},
   "outputs": [],
   "source": [
    "# Импортируем библиотеки:\n",
    "#\tдля работы со временем: time\n",
    "#\tдля работы с IFC: ifcopenshell\n",
    "#\tдля математических операций: math\n",
    "\n",
    "import time\n",
    "import ifcopenshell\n",
    "import math"
   ]
  },
  {
   "cell_type": "code",
   "execution_count": 67,
   "metadata": {},
   "outputs": [],
   "source": [
    "# Создаём пустой файл IFC\n",
    "\n",
    "ifc = ifcopenshell.file()"
   ]
  },
  {
   "cell_type": "code",
   "execution_count": 68,
   "metadata": {},
   "outputs": [],
   "source": [
    "# Юридическая информация\n",
    "\n",
    "engineer = ifc.createIfcActorRole('ENGINEER')\n",
    "contractor = ifc.createIfcActorRole('CONTRACTOR')\n",
    "owner = ifc.createIfcActorRole('OWNER')\n",
    "projectManager = ifc.createIfcActorRole('PROJECTMANAGER')\n",
    "\n",
    "myself = ifc.createIfcPerson()\n",
    "myself.FamilyName = 'Dobranov'\n",
    "myself.GivenName = 'Vyacheslav'\n",
    "myself.Roles = [projectManager, owner, engineer]\n",
    "\n",
    "myOrganization = ifc.createIfcOrganization()\n",
    "myOrganization.Name = 'Klockwerk Kat'\n",
    "myOrganization.Roles = [contractor]\n",
    "\n",
    "meInMyOrg = ifc.createIfcPersonAndOrganization()\n",
    "meInMyOrg.ThePerson = myself\n",
    "meInMyOrg.TheOrganization = myOrganization\n",
    "meInMyOrg.Roles = [owner]\n",
    "\n",
    "myApp = ifc.createIfcApplication()\n",
    "myApp.ApplicationDeveloper = myOrganization\n",
    "myApp.Version = '0.0.1'\n",
    "myApp.ApplicationFullName = 'KK-IFC'\n",
    "\n",
    "# creationDate = ifc.createIfcTimeStamp(int(time.time()))\n",
    "ownerHistory = ifc.createIfcOwnerHistory()\n",
    "ownerHistory.OwningUser = meInMyOrg\n",
    "ownerHistory.OwningApplication = myApp\n",
    "ownerHistory.CreationDate = int(time.time())\n"
   ]
  },
  {
   "cell_type": "code",
   "execution_count": 69,
   "metadata": {},
   "outputs": [],
   "source": [
    "# Единицы измерения\n",
    "\n",
    "lengthUnit = ifc.createIfcSIUnit()\n",
    "lengthUnit.UnitType = \"LENGTHUNIT\"\n",
    "lengthUnit.Prefix = \"MILLI\"\n",
    "lengthUnit.Name = \"METRE\"\n",
    "\n",
    "areaUnit = ifc.createIfcSIUnit()\n",
    "areaUnit.UnitType = \"AREAUNIT\"\n",
    "areaUnit.Name = \"SQUARE_METRE\"\n",
    "\n",
    "volumeUnit = ifc.createIfcSIUnit()\n",
    "volumeUnit.UnitType = \"VOLUMEUNIT\"\n",
    "volumeUnit.Name = \"CUBIC_METRE\"\n",
    "\n",
    "myUnits = ifc.createIfcUnitAssignment([lengthUnit, areaUnit, volumeUnit])\n"
   ]
  },
  {
   "cell_type": "code",
   "execution_count": 70,
   "metadata": {},
   "outputs": [
    {
     "name": "stdout",
     "output_type": "stream",
     "text": [
      "#14=IfcProject('2rTbGttj5F0fBD5erCIfyr',#9,'1st Try','Creation of an IFC-file from the scratch with the ifcopenshell library.',$,$,$,$,#13)\n"
     ]
    }
   ],
   "source": [
    "# Создание проекта\n",
    "\n",
    "project = ifc.createIfcProject(ifcopenshell.guid.new())\n",
    "project.OwnerHistory = ownerHistory\n",
    "project.Name = '1st Try'\n",
    "project.Description = 'Creation of an IFC-file from the scratch with the ifcopenshell library.'\n",
    "project.UnitsInContext = myUnits\n",
    "\n",
    "print(project)\n",
    "ifc.write('new_model.ifc')\n"
   ]
  },
  {
   "cell_type": "code",
   "execution_count": null,
   "metadata": {},
   "outputs": [],
   "source": []
  }
 ],
 "metadata": {
  "kernelspec": {
   "display_name": "Python 3.10.6 64-bit",
   "language": "python",
   "name": "python3"
  },
  "language_info": {
   "codemirror_mode": {
    "name": "ipython",
    "version": 3
   },
   "file_extension": ".py",
   "mimetype": "text/x-python",
   "name": "python",
   "nbconvert_exporter": "python",
   "pygments_lexer": "ipython3",
   "version": "3.10.6"
  },
  "orig_nbformat": 4,
  "vscode": {
   "interpreter": {
    "hash": "b0fa6594d8f4cbf19f97940f81e996739fb7646882a419484c72d19e05852a7e"
   }
  }
 },
 "nbformat": 4,
 "nbformat_minor": 2
}
